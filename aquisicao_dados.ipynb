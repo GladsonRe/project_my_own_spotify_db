{
 "cells": [
  {
   "cell_type": "code",
   "execution_count": 1,
   "id": "c99d3807",
   "metadata": {},
   "outputs": [],
   "source": [
    "import spotipy\n",
    "import spotipy.util as util\n",
    "from spotipy.oauth2 import SpotifyClientCredentials"
   ]
  },
  {
   "cell_type": "code",
   "execution_count": 2,
   "id": "9e851ca1",
   "metadata": {},
   "outputs": [],
   "source": [
    "client_id= \"\"\n",
    "client_secret= \"\"\n",
    "redirect_uri='http://localhost:8080/callback'\n",
    "username = ''"
   ]
  },
  {
   "cell_type": "code",
   "execution_count": 3,
   "id": "8cac44f5",
   "metadata": {},
   "outputs": [
    {
     "data": {
      "text/plain": [
       "'https://web.archive.org/web/20210425234118/https://developer.spotify.com/documentation/general/guides/scopes/'"
      ]
     },
     "execution_count": 3,
     "metadata": {},
     "output_type": "execute_result"
    }
   ],
   "source": [
    "\"https://web.archive.org/web/20210425234118/https://developer.spotify.com/documentation/general/guides/scopes/\" "
   ]
  },
  {
   "cell_type": "code",
   "execution_count": 4,
   "id": "077c02d0",
   "metadata": {},
   "outputs": [],
   "source": [
    "token = util.prompt_for_user_token(username, \n",
    "                                   scope=\"user-read-recently-played\",\n",
    "                                   client_id=client_id, \n",
    "                                   client_secret=client_secret, \n",
    "                                   redirect_uri=redirect_uri)"
   ]
  },
  {
   "cell_type": "code",
   "execution_count": 5,
   "id": "aedeb5cc",
   "metadata": {},
   "outputs": [],
   "source": [
    "sp=spotipy.Spotify(auth= token,)"
   ]
  },
  {
   "cell_type": "code",
   "execution_count": 6,
   "id": "00155ada",
   "metadata": {},
   "outputs": [],
   "source": [
    "recentemente_tocadas = sp.current_user_recently_played()"
   ]
  },
  {
   "cell_type": "code",
   "execution_count": 7,
   "id": "798bad62",
   "metadata": {},
   "outputs": [],
   "source": [
    "data = []\n",
    "columns = ['played_at','id_track','name_track','explicit_track','duration_ms_track','track_number_track',\n",
    "           'id_artist_track','artists_track',\n",
    "           'id_album','name_album','release_date_album','total_tracks_album', 'artists_names_album','id_artists_album']"
   ]
  },
  {
   "cell_type": "code",
   "execution_count": 8,
   "id": "8658b2e5",
   "metadata": {},
   "outputs": [],
   "source": [
    "for i in range(len(recentemente_tocadas['items'])):\n",
    "    cursor = []\n",
    "    cursor.append(recentemente_tocadas[\"items\"][i]['played_at'].replace('T',' ').replace('Z',''))\n",
    "    cursor.append(recentemente_tocadas['items'][i]['track']['id'])\n",
    "    cursor.append(recentemente_tocadas['items'][i]['track']['name'])\n",
    "    cursor.append(recentemente_tocadas['items'][i]['track']['explicit'])\n",
    "    cursor.append(recentemente_tocadas['items'][i]['track']['duration_ms'])\n",
    "    cursor.append(recentemente_tocadas['items'][i]['track']['track_number'])\n",
    "    \n",
    "    artists = []\n",
    "    id_artist = []\n",
    "    for j in range(len(recentemente_tocadas['items'][i]['track']['artists'])):\n",
    "        artists.append(recentemente_tocadas['items'][i]['track']['artists'][j]['name'])\n",
    "        id_artist.append(recentemente_tocadas['items'][i]['track']['artists'][j]['id'])\n",
    "    cursor.append(id_artist)\n",
    "    cursor.append(artists)\n",
    "    \n",
    "    cursor.append(recentemente_tocadas['items'][i]['track']['album']['id'])\n",
    "    cursor.append(recentemente_tocadas['items'][i]['track']['album']['name'])\n",
    "    cursor.append(recentemente_tocadas['items'][i]['track']['album']['release_date'])\n",
    "    cursor.append(recentemente_tocadas['items'][i]['track']['album']['total_tracks'])\n",
    "    \n",
    "    cursor.append(recentemente_tocadas['items'][i]['track']['album']['artists'][0]['name']) \n",
    "    cursor.append(recentemente_tocadas['items'][i]['track']['album']['artists'][0]['id'])\n",
    "    \n",
    "        \n",
    "    \n",
    "    data.append(cursor)"
   ]
  },
  {
   "cell_type": "code",
   "execution_count": 9,
   "id": "1b496109",
   "metadata": {},
   "outputs": [
    {
     "name": "stdout",
     "output_type": "stream",
     "text": [
      "Stored 'data' (list)\n",
      "Stored 'columns' (list)\n"
     ]
    }
   ],
   "source": [
    "%store data\n",
    "%store columns"
   ]
  }
 ],
 "metadata": {
  "kernelspec": {
   "display_name": "Python 3 (ipykernel)",
   "language": "python",
   "name": "python3"
  },
  "language_info": {
   "codemirror_mode": {
    "name": "ipython",
    "version": 3
   },
   "file_extension": ".py",
   "mimetype": "text/x-python",
   "name": "python",
   "nbconvert_exporter": "python",
   "pygments_lexer": "ipython3",
   "version": "3.10.2"
  }
 },
 "nbformat": 4,
 "nbformat_minor": 5
}
