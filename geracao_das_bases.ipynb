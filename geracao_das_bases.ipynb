{
 "cells": [
  {
   "cell_type": "code",
   "execution_count": 1,
   "id": "b7676767",
   "metadata": {},
   "outputs": [],
   "source": [
    "%store -r data\n",
    "%store -r columns"
   ]
  },
  {
   "cell_type": "code",
   "execution_count": 2,
   "id": "dbd43ff4",
   "metadata": {},
   "outputs": [],
   "source": [
    "import sqlite3\n",
    "from sqlite3 import Error\n",
    "import pandas as pd\n",
    "import numpy as np"
   ]
  },
  {
   "cell_type": "code",
   "execution_count": 3,
   "id": "af9efa74",
   "metadata": {},
   "outputs": [],
   "source": [
    "raw_data = pd.DataFrame(data, columns = columns)"
   ]
  },
  {
   "cell_type": "markdown",
   "id": "74320a90",
   "metadata": {},
   "source": [
    "T_ARTIST"
   ]
  },
  {
   "cell_type": "code",
   "execution_count": 4,
   "id": "fc537e5e",
   "metadata": {
    "scrolled": true
   },
   "outputs": [],
   "source": [
    "artists_names = []\n",
    "id_artists = []\n",
    "for i in range(len(raw_data['artists_track'])):\n",
    "    for j in range(len(raw_data['artists_track'][i])):\n",
    "        artists_names.append(raw_data['artists_track'][i][j])\n",
    "        id_artists.append(raw_data['id_artist_track'][i][j])\n"
   ]
  },
  {
   "cell_type": "code",
   "execution_count": 5,
   "id": "b6f18db8",
   "metadata": {},
   "outputs": [],
   "source": [
    "unique_artists_names = pd.unique(artists_names)"
   ]
  },
  {
   "cell_type": "code",
   "execution_count": 6,
   "id": "d228e48b",
   "metadata": {},
   "outputs": [],
   "source": [
    "unique_id_artists = pd.unique(id_artists)"
   ]
  },
  {
   "cell_type": "code",
   "execution_count": 7,
   "id": "8bd71857",
   "metadata": {},
   "outputs": [],
   "source": [
    "def create_connection(db_file):\n",
    "    \"\"\" create a database connection to the SQLite database\n",
    "        specified by the db_file\n",
    "    :param db_file: database file\n",
    "    :return: Connection object or None\n",
    "    \"\"\"\n",
    "    conn = None\n",
    "    try:\n",
    "        conn = sqlite3.connect(db_file)\n",
    "        \n",
    "    except Error as e:\n",
    "        print(e)\n",
    "\n",
    "    return conn"
   ]
  },
  {
   "cell_type": "code",
   "execution_count": 8,
   "id": "529fe14f",
   "metadata": {},
   "outputs": [],
   "source": [
    "connection = create_connection(r\"D:\\SQLITE\\DB_SPOTIFY\")"
   ]
  },
  {
   "cell_type": "code",
   "execution_count": 9,
   "id": "e67fb998",
   "metadata": {},
   "outputs": [],
   "source": [
    "cur = connection.cursor()"
   ]
  },
  {
   "cell_type": "code",
   "execution_count": 10,
   "id": "94801e06",
   "metadata": {},
   "outputs": [],
   "source": [
    "query_id_spotify = '''\n",
    "\n",
    "SELECT ID_SPOTIFY_ARTIST\n",
    "FROM t_artists;\n",
    "\n",
    "'''\n",
    "query_id_max = '''\n",
    "SELECT MAX(id_artist)\n",
    "from t_artists\n",
    "'''"
   ]
  },
  {
   "cell_type": "code",
   "execution_count": 11,
   "id": "f9a506bc",
   "metadata": {},
   "outputs": [],
   "source": [
    "cur.execute(query_id_max)\n",
    "id_max = cur.fetchall()[0][0]\n",
    "if id_max is None:\n",
    "    id_max = 0\n",
    "else:\n",
    "    id_max = id_max+1"
   ]
  },
  {
   "cell_type": "code",
   "execution_count": 12,
   "id": "7b870420",
   "metadata": {},
   "outputs": [],
   "source": [
    "cur.execute(query_id_spotify)\n",
    "rows = cur.fetchall()"
   ]
  },
  {
   "cell_type": "code",
   "execution_count": 13,
   "id": "c9373045",
   "metadata": {},
   "outputs": [],
   "source": [
    "id_artists_db = np.array(rows)"
   ]
  },
  {
   "cell_type": "code",
   "execution_count": 14,
   "id": "28ba32ad",
   "metadata": {},
   "outputs": [],
   "source": [
    "common_elements = np.intersect1d(id_artists_db,unique_id_artists)"
   ]
  },
  {
   "cell_type": "code",
   "execution_count": 15,
   "id": "366db2cf",
   "metadata": {},
   "outputs": [],
   "source": [
    "positions = np.where(np.in1d(unique_id_artists, common_elements))"
   ]
  },
  {
   "cell_type": "code",
   "execution_count": 16,
   "id": "80d9266e",
   "metadata": {},
   "outputs": [],
   "source": [
    "column_name = np.delete(unique_artists_names,positions)\n",
    "column_id_artists_spotify = np.delete(unique_id_artists,positions)\n",
    "column_id_artist = list(map(lambda i: id_max + i, range(len(column_id_artists_spotify))))\n",
    "final_data_artists = list(zip(column_id_artist,column_name,column_id_artists_spotify))"
   ]
  },
  {
   "cell_type": "code",
   "execution_count": 17,
   "id": "579ed3cf",
   "metadata": {},
   "outputs": [],
   "source": [
    "t_artists = pd.DataFrame(final_data_artists,columns = ['ID_ARTIST','NAME','ID_SPOTIFY_ARTIST'])"
   ]
  },
  {
   "cell_type": "code",
   "execution_count": 18,
   "id": "ac7d5ba8",
   "metadata": {
    "scrolled": false
   },
   "outputs": [
    {
     "data": {
      "text/plain": [
       "5"
      ]
     },
     "execution_count": 18,
     "metadata": {},
     "output_type": "execute_result"
    }
   ],
   "source": [
    "t_artists.to_sql('T_ARTISTS', connection, if_exists='append',index = False)"
   ]
  },
  {
   "cell_type": "markdown",
   "id": "9e377fa8",
   "metadata": {},
   "source": [
    "T_ALBUMS"
   ]
  },
  {
   "cell_type": "code",
   "execution_count": 19,
   "id": "1414dfad",
   "metadata": {},
   "outputs": [],
   "source": [
    "unique_albums = raw_data[['name_album','release_date_album',\n",
    "                          'total_tracks_album','id_album','artists_names_album', \n",
    "                          'id_artists_album']].drop_duplicates(subset = 'id_album').reset_index(drop = True)\n",
    "unique_albums = unique_albums.rename(columns = {'name_album': 'NAME','release_date_album':'RELEASE_DATE',\n",
    "                                                'total_tracks_album':'TOTAL_TRACKS','id_album':'ID_SPOTIFY_ALBUM',\n",
    "                                                'id_artists_album':'ID_SPOTIFY_ARTIST'})"
   ]
  },
  {
   "cell_type": "code",
   "execution_count": 20,
   "id": "ec6580b8",
   "metadata": {
    "scrolled": false
   },
   "outputs": [],
   "source": [
    "t_albums = pd.merge(right = pd.read_sql('SELECT ID_ARTIST, ID_SPOTIFY_ARTIST FROM T_ARTISTS',connection),\n",
    "         left = unique_albums,\n",
    "         on = 'ID_SPOTIFY_ARTIST',\n",
    "         how = 'inner')\n",
    "t_albums = t_albums.drop(columns = ['artists_names_album','ID_SPOTIFY_ARTIST'])"
   ]
  },
  {
   "cell_type": "code",
   "execution_count": 21,
   "id": "ec6cdbdf",
   "metadata": {},
   "outputs": [],
   "source": [
    "query_id_spotify = '''\n",
    "\n",
    "SELECT ID_SPOTIFY_ALBUM\n",
    "FROM T_ALBUMS;\n",
    "\n",
    "'''\n",
    "query_id_max = '''\n",
    "SELECT MAX(id_album)\n",
    "from T_ALBUMS\n",
    "'''"
   ]
  },
  {
   "cell_type": "code",
   "execution_count": 22,
   "id": "a70367b5",
   "metadata": {},
   "outputs": [],
   "source": [
    "cur.execute(query_id_max)\n",
    "id_max = cur.fetchall()[0][0]\n",
    "if id_max is None:\n",
    "    id_max = 0\n",
    "else:\n",
    "    id_max = id_max+1"
   ]
  },
  {
   "cell_type": "code",
   "execution_count": 23,
   "id": "31ea872e",
   "metadata": {},
   "outputs": [],
   "source": [
    "cur.execute(query_id_spotify)\n",
    "rows = cur.fetchall()"
   ]
  },
  {
   "cell_type": "code",
   "execution_count": 24,
   "id": "7516df92",
   "metadata": {},
   "outputs": [],
   "source": [
    "id_album_db = np.array(rows)"
   ]
  },
  {
   "cell_type": "code",
   "execution_count": 25,
   "id": "5c889f4a",
   "metadata": {},
   "outputs": [],
   "source": [
    "unique_id_album = t_albums['ID_SPOTIFY_ALBUM'].to_numpy()"
   ]
  },
  {
   "cell_type": "code",
   "execution_count": 26,
   "id": "1c5070ee",
   "metadata": {},
   "outputs": [],
   "source": [
    "common_elements = np.intersect1d(id_album_db,unique_id_album)"
   ]
  },
  {
   "cell_type": "code",
   "execution_count": 27,
   "id": "0960abbb",
   "metadata": {},
   "outputs": [],
   "source": [
    "positions = np.where(np.in1d(unique_id_album, common_elements))"
   ]
  },
  {
   "cell_type": "code",
   "execution_count": 28,
   "id": "782fb169",
   "metadata": {},
   "outputs": [],
   "source": [
    "t_albums = t_albums.drop(t_albums.index[positions])"
   ]
  },
  {
   "cell_type": "code",
   "execution_count": 29,
   "id": "3e7c2a5a",
   "metadata": {},
   "outputs": [],
   "source": [
    "t_albums['ID_ALBUM'] = list(map(lambda i: id_max + i, range(len(t_albums))))"
   ]
  },
  {
   "cell_type": "code",
   "execution_count": 30,
   "id": "e0df3c45",
   "metadata": {},
   "outputs": [
    {
     "data": {
      "text/plain": [
       "5"
      ]
     },
     "execution_count": 30,
     "metadata": {},
     "output_type": "execute_result"
    }
   ],
   "source": [
    "t_albums.to_sql('T_ALBUMS', connection, if_exists='append',index = False)"
   ]
  },
  {
   "cell_type": "markdown",
   "id": "6783bab9",
   "metadata": {},
   "source": [
    "T_MUSICS_HAS_T_ARTISTS & T_MUSIC"
   ]
  },
  {
   "cell_type": "code",
   "execution_count": 31,
   "id": "d2317b93",
   "metadata": {},
   "outputs": [],
   "source": [
    "unique_musics = raw_data[['name_track','duration_ms_track','track_number_track',\n",
    "          'explicit_track','id_track','id_album',\n",
    "          'id_artist_track']].drop_duplicates(subset = 'id_track').reset_index(drop = True).explode('id_artist_track')"
   ]
  },
  {
   "cell_type": "code",
   "execution_count": 32,
   "id": "27321edc",
   "metadata": {},
   "outputs": [],
   "source": [
    "unique_musics = pd.merge(right = pd.read_sql('SELECT ID_ARTIST, ID_SPOTIFY_ARTIST FROM T_ARTISTS',connection),\n",
    "         left = unique_musics,\n",
    "         right_on = 'ID_SPOTIFY_ARTIST',\n",
    "         left_on = 'id_artist_track',\n",
    "         how = 'inner').drop(columns = ['ID_SPOTIFY_ARTIST','id_artist_track'])"
   ]
  },
  {
   "cell_type": "code",
   "execution_count": 33,
   "id": "47fadaba",
   "metadata": {},
   "outputs": [],
   "source": [
    "unique_musics = pd.merge(right = pd.read_sql('SELECT ID_ALBUM, ID_SPOTIFY_ALBUM FROM T_ALBUMS',connection),\n",
    "                   left = unique_musics,\n",
    "                   right_on = 'ID_SPOTIFY_ALBUM',\n",
    "                   left_on = 'id_album').drop(columns = ['id_album','ID_SPOTIFY_ALBUM']).rename(\n",
    "                                                        columns = {'name_track': 'NAME_MUSIC',\n",
    "                                                                   'duration_ms_track':'DURATION_MS',\n",
    "                                                                   'track_number_track':'TRACK_NUMBER',\n",
    "                                                                   'explicit_track':'EXPLICIT',\n",
    "                                                                   'id_track':'ID_SPOTIFY_MUSIC'})"
   ]
  },
  {
   "cell_type": "code",
   "execution_count": 34,
   "id": "2f8323f2",
   "metadata": {},
   "outputs": [],
   "source": [
    "query_id_spotify = '''\n",
    "\n",
    "SELECT ID_SPOTIFY_MUSIC\n",
    "FROM T_MUSICS;\n",
    "\n",
    "'''\n",
    "query_id_max = '''\n",
    "SELECT MAX(ID_MUSIC)\n",
    "from T_MUSICS;\n",
    "'''"
   ]
  },
  {
   "cell_type": "code",
   "execution_count": 35,
   "id": "266ca470",
   "metadata": {},
   "outputs": [],
   "source": [
    "cur.execute(query_id_max)\n",
    "id_max = cur.fetchall()[0][0]\n",
    "if id_max is None:\n",
    "    id_max = 0\n",
    "else:\n",
    "    id_max = id_max+1"
   ]
  },
  {
   "cell_type": "code",
   "execution_count": 36,
   "id": "2df0d6d1",
   "metadata": {},
   "outputs": [],
   "source": [
    "cur.execute(query_id_spotify)\n",
    "rows = cur.fetchall()"
   ]
  },
  {
   "cell_type": "code",
   "execution_count": 37,
   "id": "61e0402a",
   "metadata": {},
   "outputs": [],
   "source": [
    "id_music_db = np.array(rows)"
   ]
  },
  {
   "cell_type": "code",
   "execution_count": 38,
   "id": "5d9dc8da",
   "metadata": {},
   "outputs": [],
   "source": [
    "unique_id_music = unique_musics['ID_SPOTIFY_MUSIC'].to_numpy()"
   ]
  },
  {
   "cell_type": "code",
   "execution_count": 39,
   "id": "0363a767",
   "metadata": {},
   "outputs": [],
   "source": [
    "common_elements = np.intersect1d(id_music_db,unique_id_music)"
   ]
  },
  {
   "cell_type": "code",
   "execution_count": 40,
   "id": "8c4855fb",
   "metadata": {},
   "outputs": [],
   "source": [
    "positions = np.where(np.in1d(unique_id_music, common_elements))"
   ]
  },
  {
   "cell_type": "code",
   "execution_count": 41,
   "id": "235692c3",
   "metadata": {},
   "outputs": [],
   "source": [
    "unique_musics = unique_musics.drop(unique_musics.index[positions])"
   ]
  },
  {
   "cell_type": "code",
   "execution_count": 42,
   "id": "dc12c3bd",
   "metadata": {},
   "outputs": [],
   "source": [
    "id_new_music = list(map(lambda i: id_max + i, range(len(unique_musics.drop_duplicates('ID_SPOTIFY_MUSIC')))))"
   ]
  },
  {
   "cell_type": "code",
   "execution_count": 43,
   "id": "bc3313fa",
   "metadata": {},
   "outputs": [],
   "source": [
    "t_musics_has_t_artists =unique_musics[['ID_ARTIST','ID_SPOTIFY_MUSIC']]"
   ]
  },
  {
   "cell_type": "code",
   "execution_count": 44,
   "id": "c1e21841",
   "metadata": {},
   "outputs": [],
   "source": [
    "unique_musics = unique_musics.drop_duplicates('ID_SPOTIFY_MUSIC').reset_index(drop =True).drop(columns ='ID_ARTIST')"
   ]
  },
  {
   "cell_type": "code",
   "execution_count": 45,
   "id": "1f93f90d",
   "metadata": {},
   "outputs": [],
   "source": [
    "unique_musics['ID_MUSIC'] = id_new_music"
   ]
  },
  {
   "cell_type": "code",
   "execution_count": 46,
   "id": "911aea8c",
   "metadata": {},
   "outputs": [
    {
     "data": {
      "text/plain": [
       "9"
      ]
     },
     "execution_count": 46,
     "metadata": {},
     "output_type": "execute_result"
    }
   ],
   "source": [
    "unique_musics.to_sql('T_MUSICS', connection, if_exists='append',index = False)"
   ]
  },
  {
   "cell_type": "code",
   "execution_count": 47,
   "id": "56696b76",
   "metadata": {},
   "outputs": [],
   "source": [
    "t_musics_has_t_artists = pd.merge(left = pd.read_sql('SELECT ID_MUSIC, ID_SPOTIFY_MUSIC FROM T_MUSICS',connection),\n",
    "         right = t_musics_has_t_artists,\n",
    "         on = 'ID_SPOTIFY_MUSIC',\n",
    "         how = 'inner').drop(columns =['ID_SPOTIFY_MUSIC'])"
   ]
  },
  {
   "cell_type": "code",
   "execution_count": 48,
   "id": "7ac84438",
   "metadata": {},
   "outputs": [
    {
     "data": {
      "text/plain": [
       "9"
      ]
     },
     "execution_count": 48,
     "metadata": {},
     "output_type": "execute_result"
    }
   ],
   "source": [
    "t_musics_has_t_artists.to_sql('T_MUSICS_HAS_T_ARTISTS', connection, if_exists='append',index = False)"
   ]
  },
  {
   "cell_type": "markdown",
   "id": "6967e2bc",
   "metadata": {},
   "source": [
    "T_EXECUTED"
   ]
  },
  {
   "cell_type": "code",
   "execution_count": 49,
   "id": "084ad431",
   "metadata": {},
   "outputs": [
    {
     "data": {
      "text/plain": [
       "Index(['played_at', 'id_track', 'name_track', 'explicit_track',\n",
       "       'duration_ms_track', 'track_number_track', 'id_artist_track',\n",
       "       'artists_track', 'id_album', 'name_album', 'release_date_album',\n",
       "       'total_tracks_album', 'artists_names_album', 'id_artists_album'],\n",
       "      dtype='object')"
      ]
     },
     "execution_count": 49,
     "metadata": {},
     "output_type": "execute_result"
    }
   ],
   "source": [
    "raw_data.columns"
   ]
  },
  {
   "cell_type": "code",
   "execution_count": 50,
   "id": "fe8388ba",
   "metadata": {},
   "outputs": [],
   "source": [
    "t_executed = pd.merge(left = raw_data[['played_at','id_track']],\n",
    "         right = pd.read_sql('SELECT ID_MUSIC, ID_SPOTIFY_MUSIC FROM T_MUSICS',connection),\n",
    "         left_on = 'id_track',\n",
    "         right_on = 'ID_SPOTIFY_MUSIC',\n",
    "         how = 'inner').sort_values(by = ['played_at'], ascending= 1).drop(columns = ['id_track','ID_SPOTIFY_MUSIC']).rename(\n",
    "                                                        columns = {'played_at': 'PLAYED_AT'})"
   ]
  },
  {
   "cell_type": "code",
   "execution_count": 51,
   "id": "79a3678f",
   "metadata": {},
   "outputs": [],
   "source": [
    "query_dt_max = '''\n",
    "SELECT MAX(PLAYED_AT)\n",
    "from T_EXECUTED;\n",
    "'''"
   ]
  },
  {
   "cell_type": "code",
   "execution_count": 52,
   "id": "ddf2f199",
   "metadata": {},
   "outputs": [],
   "source": [
    "cur.execute(query_dt_max)\n",
    "dt_max = cur.fetchall()[0][0]\n",
    "if dt_max is None:\n",
    "    dt_max = '1998-12-21'\n",
    "else:\n",
    "    pass"
   ]
  },
  {
   "cell_type": "code",
   "execution_count": 53,
   "id": "191d5d4b",
   "metadata": {},
   "outputs": [],
   "source": [
    "t_executed = t_executed.loc[t_executed['PLAYED_AT']>dt_max]"
   ]
  },
  {
   "cell_type": "code",
   "execution_count": 54,
   "id": "d1a20d3f",
   "metadata": {},
   "outputs": [
    {
     "data": {
      "text/plain": [
       "11"
      ]
     },
     "execution_count": 54,
     "metadata": {},
     "output_type": "execute_result"
    }
   ],
   "source": [
    "t_executed.to_sql('T_EXECUTED', connection, if_exists='append',index = False)"
   ]
  },
  {
   "cell_type": "code",
   "execution_count": 55,
   "id": "cc459512",
   "metadata": {},
   "outputs": [],
   "source": [
    "connection.close()"
   ]
  }
 ],
 "metadata": {
  "kernelspec": {
   "display_name": "Python 3 (ipykernel)",
   "language": "python",
   "name": "python3"
  },
  "language_info": {
   "codemirror_mode": {
    "name": "ipython",
    "version": 3
   },
   "file_extension": ".py",
   "mimetype": "text/x-python",
   "name": "python",
   "nbconvert_exporter": "python",
   "pygments_lexer": "ipython3",
   "version": "3.10.2"
  }
 },
 "nbformat": 4,
 "nbformat_minor": 5
}
